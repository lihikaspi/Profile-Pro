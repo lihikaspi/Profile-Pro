{
 "cells": [
  {
   "cell_type": "code",
   "execution_count": 0,
   "metadata": {
    "application/vnd.databricks.v1+cell": {
     "cellMetadata": {
      "byteLimit": 2048000,
      "rowLimit": 10000
     },
     "inputWidgets": {},
     "nuid": "5b822ff0-5254-45ad-ba3e-2aff35eea381",
     "showTitle": false,
     "tableResultSettingsMap": {},
     "title": ""
    }
   },
   "outputs": [],
   "source": [
    "from pyspark.sql.types import *\n",
    "import pyspark\n",
    "from pyspark.sql import SparkSession\n",
    "from pyspark.sql import functions as f\n",
    "import pandas as pd\n",
    "from pyspark.ml.feature import CountVectorizer, Tokenizer, StringIndexer, VectorAssembler, OneHotEncoder, Word2Vec, HashingTF, IndexToString\n",
    "from pyspark.ml.linalg import SparseVector, Vectors, DenseVector\n",
    "import numpy as np\n",
    "from pyspark.ml import Pipeline, PipelineModel\n",
    "from pyspark.sql.window import Window\n",
    "import math\n",
    "\n",
    "spark = SparkSession.builder.getOrCreate()"
   ]
  },
  {
   "cell_type": "code",
   "execution_count": 0,
   "metadata": {
    "application/vnd.databricks.v1+cell": {
     "cellMetadata": {
      "byteLimit": 2048000,
      "rowLimit": 10000
     },
     "inputWidgets": {},
     "nuid": "8684f4c5-c2e1-469b-be6a-df163b88e8c3",
     "showTitle": false,
     "tableResultSettingsMap": {},
     "title": ""
    }
   },
   "outputs": [],
   "source": [
    "profiles = spark.read.parquet('/dbfs/linkedin_people_train_data')"
   ]
  },
  {
   "cell_type": "markdown",
   "metadata": {
    "application/vnd.databricks.v1+cell": {
     "cellMetadata": {
      "byteLimit": 2048000,
      "rowLimit": 10000
     },
     "inputWidgets": {},
     "nuid": "d5c566ea-536a-40a4-96ad-05432dd0c5e9",
     "showTitle": false,
     "tableResultSettingsMap": {},
     "title": ""
    }
   },
   "source": [
    "#### Job Titles and Locations"
   ]
  },
  {
   "cell_type": "code",
   "execution_count": 0,
   "metadata": {
    "application/vnd.databricks.v1+cell": {
     "cellMetadata": {
      "byteLimit": 2048000,
      "rowLimit": 10000
     },
     "inputWidgets": {},
     "nuid": "9d1edb30-bf42-4de1-8e4a-bcaa3bba0a63",
     "showTitle": false,
     "tableResultSettingsMap": {},
     "title": ""
    }
   },
   "outputs": [],
   "source": [
    "jobs = profiles.select('name', 'id', 'city', 'country_code', f.col('current_company').getField('name').alias('company_name'), f.col('experience')[0].getField('title').alias('job_title'), 'position')"
   ]
  },
  {
   "cell_type": "code",
   "execution_count": 0,
   "metadata": {
    "application/vnd.databricks.v1+cell": {
     "cellMetadata": {
      "byteLimit": 2048000,
      "rowLimit": 10000
     },
     "inputWidgets": {},
     "nuid": "5bbc96a2-9d24-40c7-ba2c-69fce46e825e",
     "showTitle": false,
     "tableResultSettingsMap": {},
     "title": ""
    }
   },
   "outputs": [],
   "source": [
    "jobs.display(5)"
   ]
  },
  {
   "cell_type": "markdown",
   "metadata": {
    "application/vnd.databricks.v1+cell": {
     "cellMetadata": {
      "byteLimit": 2048000,
      "rowLimit": 10000
     },
     "inputWidgets": {},
     "nuid": "fcad69ed-24e1-42af-a465-733d2d929380",
     "showTitle": false,
     "tableResultSettingsMap": {},
     "title": ""
    }
   },
   "source": [
    "####Clustering job titles into meta job titles"
   ]
  },
  {
   "cell_type": "code",
   "execution_count": 0,
   "metadata": {
    "application/vnd.databricks.v1+cell": {
     "cellMetadata": {
      "byteLimit": 2048000,
      "rowLimit": 10000
     },
     "inputWidgets": {},
     "nuid": "b75138db-1b77-4381-a092-257f7e531b5c",
     "showTitle": false,
     "tableResultSettingsMap": {},
     "title": ""
    }
   },
   "outputs": [],
   "source": [
    "# Create a DataFrame with the specified centroids\n",
    "centroids_data = [\n",
    "    ('Leadership',), ('Product',), ('Engineering',), ('DataScience',), ('Operations',),\n",
    "    ('Marketing',), ('Sales',), ('Design',), ('Support',), ('Finance',),\n",
    "    ('Resources',), ('Research',), ('Healthcare',), ('Education',), ('Security',),\n",
    "    ('Logistics',), ('Legal',), ('Quality',), ('Management',), ('Content',)\n",
    "]\n",
    "\n",
    "centroids_df = spark.createDataFrame(centroids_data, ['processed_title'])\n",
    "\n",
    "# Preprocess job titles\n",
    "job_titles_df = jobs.select(\n",
    "    f.when(f.col('job_title').isNotNull(), f.lower(f.col('job_title')))\n",
    "    .otherwise(f.lower(f.col('position')))\n",
    "    .alias('processed_title')\n",
    ")\n",
    "\n",
    "job_titles_df = job_titles_df.dropna()\n",
    "tokenizer = Tokenizer(inputCol=\"processed_title\", outputCol=\"tokened_title\")\n",
    "w2v = Word2Vec(inputCol=\"tokened_title\", outputCol=\"vector\", vectorSize=200, minCount=1)\n",
    "\n",
    "# Build the pipeline\n",
    "pipeline = Pipeline(stages=[tokenizer, w2v])\n",
    "\n",
    "# Train the pipeline model\n",
    "model_vectorize = pipeline.fit(job_titles_df)\n",
    "\n",
    "# Create embeddings for job titles and centroids\n",
    "jobs_with_vectors = model_vectorize.transform(job_titles_df)\n",
    "centroids_with_vectors = model_vectorize.transform(centroids_df)\n",
    "\n",
    "jobs_temp = jobs_with_vectors.withColumnRenamed('vector', 'job_vector')\n",
    "jobs_temp = jobs_temp.withColumnRenamed('processed_title', 'job_title')\n",
    "\n",
    "centroids_temp = centroids_with_vectors.withColumnRenamed('processed_title', 'meta_job')\n",
    "centroids_temp = centroids_temp.withColumnRenamed('vector', 'centroid_vector')\n",
    "\n",
    "joined = jobs_temp.join(centroids_temp)"
   ]
  },
  {
   "cell_type": "code",
   "execution_count": 0,
   "metadata": {
    "application/vnd.databricks.v1+cell": {
     "cellMetadata": {
      "byteLimit": 2048000,
      "rowLimit": 10000
     },
     "inputWidgets": {},
     "nuid": "0f41cbc9-36cf-4d53-81d6-ec4af93e564f",
     "showTitle": false,
     "tableResultSettingsMap": {},
     "title": ""
    }
   },
   "outputs": [],
   "source": [
    "# Define a function to calculate cosine similarity\n",
    "def cosine_similarity(v1, v2):\n",
    "    if v1 is None or v2 is None:\n",
    "        return None\n",
    "    dot_product = float(v1.dot(v2))  # Dot product of the two vectors\n",
    "    norm_v1 = math.sqrt(v1.dot(v1))  # Magnitude (norm) of v1\n",
    "    norm_v2 = math.sqrt(v2.dot(v2))  # Magnitude (norm) of v2\n",
    "    if norm_v1 == 0 or norm_v2 == 0:\n",
    "        return None  # Avoid division by zero\n",
    "    return dot_product / (norm_v1 * norm_v2)\n",
    "\n",
    "# Register the function as a UDF\n",
    "cosine_similarity_udf = f.udf(cosine_similarity, StringType())\n",
    "\n",
    "# Add a new column to compute cosine similarity\n",
    "joined = joined.withColumn(\n",
    "    \"cosine_similarity\",\n",
    "    cosine_similarity_udf(f.col(\"job_vector\"), f.col(\"centroid_vector\"))\n",
    ")"
   ]
  },
  {
   "cell_type": "code",
   "execution_count": 0,
   "metadata": {
    "application/vnd.databricks.v1+cell": {
     "cellMetadata": {
      "byteLimit": 2048000,
      "rowLimit": 10000
     },
     "inputWidgets": {},
     "nuid": "e91a2897-730e-41fb-b8bd-0e45f65db5a4",
     "showTitle": false,
     "tableResultSettingsMap": {},
     "title": ""
    }
   },
   "outputs": [],
   "source": [
    "# Show the result\n",
    "joined.display()"
   ]
  },
  {
   "cell_type": "code",
   "execution_count": 0,
   "metadata": {
    "application/vnd.databricks.v1+cell": {
     "cellMetadata": {
      "byteLimit": 2048000,
      "rowLimit": 10000
     },
     "inputWidgets": {},
     "nuid": "2e92f581-42ad-4e17-a7fa-8fd4db51cebc",
     "showTitle": false,
     "tableResultSettingsMap": {},
     "title": ""
    }
   },
   "outputs": [],
   "source": [
    "window_spec = Window.partitionBy(\"job_title\").orderBy(f.col(\"cosine_similarity\").desc())\n",
    "\n",
    "# Rank centroids for each job and select the closest one\n",
    "ranked_df = joined.withColumn(\"rank\", f.row_number().over(window_spec))\n",
    "\n",
    "# Filter for the closest centroid\n",
    "closest_centroids = ranked_df.filter(f.col(\"rank\") == 1)\n",
    "\n",
    "# Select relevant columns\n",
    "result_df = closest_centroids.select(\n",
    "    f.col(\"job_title\"),\n",
    "    f.col(\"meta_job\").alias(\"closest_centroid\"),\n",
    "    f.col(\"cosine_similarity\")\n",
    ")"
   ]
  },
  {
   "cell_type": "code",
   "execution_count": 0,
   "metadata": {
    "application/vnd.databricks.v1+cell": {
     "cellMetadata": {
      "byteLimit": 2048000,
      "rowLimit": 10000
     },
     "inputWidgets": {},
     "nuid": "dc028341-4154-4d4f-9bd2-c365c5800ec9",
     "showTitle": false,
     "tableResultSettingsMap": {},
     "title": ""
    }
   },
   "outputs": [],
   "source": [
    "# Display the result\n",
    "result_df.display()"
   ]
  },
  {
   "cell_type": "code",
   "execution_count": 0,
   "metadata": {
    "application/vnd.databricks.v1+cell": {
     "cellMetadata": {
      "byteLimit": 2048000,
      "rowLimit": 10000
     },
     "inputWidgets": {},
     "nuid": "cc84ccac-c719-4795-8e2d-67584f8de74d",
     "showTitle": false,
     "tableResultSettingsMap": {},
     "title": ""
    }
   },
   "outputs": [],
   "source": [
    "profiles_with_state = profiles.withColumn(\n",
    "    \"state\",\n",
    "    f.split(f.col(\"city\"), \", \")[1]  # The second element is the state\n",
    ")"
   ]
  },
  {
   "cell_type": "code",
   "execution_count": 0,
   "metadata": {
    "application/vnd.databricks.v1+cell": {
     "cellMetadata": {
      "byteLimit": 2048000,
      "rowLimit": 10000
     },
     "inputWidgets": {},
     "nuid": "e8902eec-d1f3-4e16-9e1e-67131af031c7",
     "showTitle": false,
     "tableResultSettingsMap": {},
     "title": ""
    }
   },
   "outputs": [],
   "source": [
    "# Show the results\n",
    "states_df = profiles_with_state.select(\"state\").dropDuplicates().dropna()\n",
    "states_df.display()"
   ]
  },
  {
   "cell_type": "code",
   "execution_count": 0,
   "metadata": {
    "application/vnd.databricks.v1+cell": {
     "cellMetadata": {
      "byteLimit": 2048000,
      "rowLimit": 10000
     },
     "inputWidgets": {},
     "nuid": "68c42d6c-722d-43da-9787-ef4392331ec3",
     "showTitle": false,
     "tableResultSettingsMap": {},
     "title": ""
    }
   },
   "outputs": [],
   "source": [
    "profiles_with_state = profiles.withColumn('state', f.split(f.col('city'), ', ')[1])\n",
    "profiles_with_count = profiles_with_state"
   ]
  },
  {
   "cell_type": "code",
   "execution_count": 0,
   "metadata": {
    "application/vnd.databricks.v1+cell": {
     "cellMetadata": {
      "byteLimit": 2048000,
      "rowLimit": 10000
     },
     "inputWidgets": {},
     "nuid": "61bc37f1-39c1-4679-8281-d79a7e9ae55e",
     "showTitle": false,
     "tableResultSettingsMap": {},
     "title": ""
    }
   },
   "outputs": [],
   "source": [
    "result_df.write.mode(\"overwrite\").parquet(\"/Workspace/Users/lihi.kaspi@campus.technion.ac.il/classified_jobs.parquet\")"
   ]
  }
 ],
 "metadata": {
  "application/vnd.databricks.v1+notebook": {
   "computePreferences": null,
   "dashboards": [],
   "environmentMetadata": {
    "base_environment": "",
    "client": "1"
   },
   "language": "python",
   "notebookMetadata": {
    "pythonIndentUnit": 4
   },
   "notebookName": "Metajobs_Classfication",
   "widgets": {}
  },
  "language_info": {
   "name": "python"
  }
 },
 "nbformat": 4,
 "nbformat_minor": 0
}
