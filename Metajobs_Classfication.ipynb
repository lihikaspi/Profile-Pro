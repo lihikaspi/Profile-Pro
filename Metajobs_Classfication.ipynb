{
 "cells": [
  {
   "cell_type": "code",
   "execution_count": 0,
   "metadata": {
    "application/vnd.databricks.v1+cell": {
     "cellMetadata": {
      "byteLimit": 2048000,
      "rowLimit": 10000
     },
     "inputWidgets": {},
     "nuid": "5b822ff0-5254-45ad-ba3e-2aff35eea381",
     "showTitle": false,
     "tableResultSettingsMap": {},
     "title": ""
    }
   },
   "outputs": [],
   "source": [
    "from pyspark.sql.types import *\n",
    "import pyspark\n",
    "from pyspark.sql import SparkSession\n",
    "from pyspark.sql import functions as f\n",
    "import pandas as pd\n",
    "from pyspark.ml.feature import CountVectorizer, Tokenizer, StringIndexer, VectorAssembler, OneHotEncoder, Word2Vec, HashingTF, IndexToString\n",
    "from pyspark.ml.linalg import SparseVector, Vectors, DenseVector\n",
    "import numpy as np\n",
    "from pyspark.ml import Pipeline, PipelineModel\n",
    "from pyspark.sql.window import Window\n",
    "import math\n",
    "\n",
    "spark = SparkSession.builder.getOrCreate()"
   ]
  },
  {
   "cell_type": "code",
   "execution_count": 0,
   "metadata": {
    "application/vnd.databricks.v1+cell": {
     "cellMetadata": {
      "byteLimit": 2048000,
      "rowLimit": 10000
     },
     "inputWidgets": {},
     "nuid": "8684f4c5-c2e1-469b-be6a-df163b88e8c3",
     "showTitle": false,
     "tableResultSettingsMap": {},
     "title": ""
    }
   },
   "outputs": [],
   "source": [
    "profiles = spark.read.parquet('/dbfs/linkedin_people_train_data')\n",
    "companies = spark.read.parquet('/dbfs/linkedin_train_data')"
   ]
  },
  {
   "cell_type": "markdown",
   "metadata": {
    "application/vnd.databricks.v1+cell": {
     "cellMetadata": {
      "byteLimit": 2048000,
      "rowLimit": 10000
     },
     "inputWidgets": {},
     "nuid": "d5c566ea-536a-40a4-96ad-05432dd0c5e9",
     "showTitle": false,
     "tableResultSettingsMap": {},
     "title": ""
    }
   },
   "source": [
    "#### Job Titles and Locations"
   ]
  },
  {
   "cell_type": "code",
   "execution_count": 0,
   "metadata": {
    "application/vnd.databricks.v1+cell": {
     "cellMetadata": {
      "byteLimit": 2048000,
      "rowLimit": 10000
     },
     "inputWidgets": {},
     "nuid": "9d1edb30-bf42-4de1-8e4a-bcaa3bba0a63",
     "showTitle": false,
     "tableResultSettingsMap": {},
     "title": ""
    }
   },
   "outputs": [],
   "source": [
    "jobs = profiles.select('name', 'id', 'city', 'country_code', f.col('current_company').getField('name').alias('company_name'), f.col('experience')[0].getField('title').alias('job_title'), 'position')"
   ]
  },
  {
   "cell_type": "code",
   "execution_count": 0,
   "metadata": {
    "application/vnd.databricks.v1+cell": {
     "cellMetadata": {
      "byteLimit": 2048000,
      "rowLimit": 10000
     },
     "inputWidgets": {},
     "nuid": "5bbc96a2-9d24-40c7-ba2c-69fce46e825e",
     "showTitle": false,
     "tableResultSettingsMap": {},
     "title": ""
    }
   },
   "outputs": [],
   "source": [
    "jobs.display(5)"
   ]
  },
  {
   "cell_type": "markdown",
   "metadata": {
    "application/vnd.databricks.v1+cell": {
     "cellMetadata": {
      "byteLimit": 2048000,
      "rowLimit": 10000
     },
     "inputWidgets": {},
     "nuid": "fcad69ed-24e1-42af-a465-733d2d929380",
     "showTitle": false,
     "tableResultSettingsMap": {},
     "title": ""
    }
   },
   "source": [
    "####Clustering job titles into meta job titles"
   ]
  },
  {
   "cell_type": "code",
   "execution_count": 0,
   "metadata": {
    "application/vnd.databricks.v1+cell": {
     "cellMetadata": {
      "byteLimit": 2048000,
      "rowLimit": 10000
     },
     "inputWidgets": {},
     "nuid": "b75138db-1b77-4381-a092-257f7e531b5c",
     "showTitle": false,
     "tableResultSettingsMap": {},
     "title": ""
    }
   },
   "outputs": [],
   "source": [
    "# Create a DataFrame with the specified centroids\n",
    "centroids_data = [\n",
    "    ('Leadership',), ('Product',), ('Engineering',), ('DataScience',), ('Operations',),\n",
    "    ('Marketing',), ('Sales',), ('Design',), ('Support',), ('Finance',),\n",
    "    ('Resources',), ('Research',), ('Healthcare',), ('Education',), ('Security',),\n",
    "    ('Logistics',), ('Legal',), ('Quality',), ('Management',), ('Content',)\n",
    "]\n",
    "\n",
    "centroids_df = spark.createDataFrame(centroids_data, ['processed_title'])\n",
    "\n",
    "# Preprocess job titles\n",
    "job_titles_df = jobs.select(\n",
    "    f.when(f.col('job_title').isNotNull(), f.lower(f.col('job_title')))\n",
    "    .otherwise(f.lower(f.col('position')))\n",
    "    .alias('processed_title')\n",
    ")\n",
    "\n",
    "job_titles_df = job_titles_df.dropna()\n",
    "tokenizer = Tokenizer(inputCol=\"processed_title\", outputCol=\"tokened_title\")\n",
    "w2v = Word2Vec(inputCol=\"tokened_title\", outputCol=\"vector\", vectorSize=200, minCount=1)\n",
    "\n",
    "# Build the pipeline\n",
    "pipeline = Pipeline(stages=[tokenizer, w2v])\n",
    "\n",
    "# Train the pipeline model\n",
    "model_vectorize = pipeline.fit(job_titles_df)\n",
    "\n",
    "# Create embeddings for job titles and centroids\n",
    "jobs_with_vectors = model_vectorize.transform(job_titles_df)\n",
    "centroids_with_vectors = model_vectorize.transform(centroids_df)\n",
    "\n",
    "jobs_temp = jobs_with_vectors.withColumnRenamed('vector', 'job_vector')\n",
    "jobs_temp = jobs_temp.withColumnRenamed('processed_title', 'job_title')\n",
    "\n",
    "centroids_temp = centroids_with_vectors.withColumnRenamed('processed_title', 'meta_job')\n",
    "centroids_temp = centroids_temp.withColumnRenamed('vector', 'centroid_vector')\n",
    "\n",
    "joined = jobs_temp.join(centroids_temp)"
   ]
  },
  {
   "cell_type": "code",
   "execution_count": 0,
   "metadata": {
    "application/vnd.databricks.v1+cell": {
     "cellMetadata": {
      "byteLimit": 2048000,
      "rowLimit": 10000
     },
     "inputWidgets": {},
     "nuid": "0f41cbc9-36cf-4d53-81d6-ec4af93e564f",
     "showTitle": false,
     "tableResultSettingsMap": {},
     "title": ""
    }
   },
   "outputs": [],
   "source": [
    "# Define a function to calculate cosine similarity\n",
    "def cosine_similarity(v1, v2):\n",
    "    if v1 is None or v2 is None:\n",
    "        return None\n",
    "    dot_product = float(v1.dot(v2))  # Dot product of the two vectors\n",
    "    norm_v1 = math.sqrt(v1.dot(v1))  # Magnitude (norm) of v1\n",
    "    norm_v2 = math.sqrt(v2.dot(v2))  # Magnitude (norm) of v2\n",
    "    if norm_v1 == 0 or norm_v2 == 0:\n",
    "        return None  # Avoid division by zero\n",
    "    return dot_product / (norm_v1 * norm_v2)\n",
    "\n",
    "# Register the function as a UDF\n",
    "cosine_similarity_udf = f.udf(cosine_similarity, StringType())\n",
    "\n",
    "# Add a new column to compute cosine similarity\n",
    "joined = joined.withColumn(\n",
    "    \"cosine_similarity\",\n",
    "    cosine_similarity_udf(f.col(\"job_vector\"), f.col(\"centroid_vector\"))\n",
    ")"
   ]
  },
  {
   "cell_type": "code",
   "execution_count": 0,
   "metadata": {
    "application/vnd.databricks.v1+cell": {
     "cellMetadata": {
      "byteLimit": 2048000,
      "rowLimit": 10000
     },
     "inputWidgets": {},
     "nuid": "e91a2897-730e-41fb-b8bd-0e45f65db5a4",
     "showTitle": false,
     "tableResultSettingsMap": {},
     "title": ""
    }
   },
   "outputs": [],
   "source": [
    "# Show the result\n",
    "joined.display()"
   ]
  },
  {
   "cell_type": "code",
   "execution_count": 0,
   "metadata": {
    "application/vnd.databricks.v1+cell": {
     "cellMetadata": {
      "byteLimit": 2048000,
      "rowLimit": 10000
     },
     "inputWidgets": {},
     "nuid": "2e92f581-42ad-4e17-a7fa-8fd4db51cebc",
     "showTitle": false,
     "tableResultSettingsMap": {},
     "title": ""
    }
   },
   "outputs": [],
   "source": [
    "window_spec = Window.partitionBy(\"job_title\").orderBy(f.col(\"cosine_similarity\").desc())\n",
    "\n",
    "# Rank centroids for each job and select the closest one\n",
    "ranked_df = joined.withColumn(\"rank\", f.row_number().over(window_spec))\n",
    "\n",
    "# Filter for the closest centroid\n",
    "closest_centroids = ranked_df.filter(f.col(\"rank\") == 1)\n",
    "\n",
    "# Select relevant columns\n",
    "result_df = closest_centroids.select(\n",
    "    f.col(\"job_title\"),\n",
    "    f.col(\"meta_job\").alias(\"closest_centroid\"),\n",
    "    f.col(\"cosine_similarity\")\n",
    ")"
   ]
  },
  {
   "cell_type": "code",
   "execution_count": 0,
   "metadata": {
    "application/vnd.databricks.v1+cell": {
     "cellMetadata": {
      "byteLimit": 2048000,
      "rowLimit": 10000
     },
     "inputWidgets": {},
     "nuid": "dc028341-4154-4d4f-9bd2-c365c5800ec9",
     "showTitle": false,
     "tableResultSettingsMap": {},
     "title": ""
    }
   },
   "outputs": [],
   "source": [
    "# Display the result\n",
    "result_df.display()"
   ]
  },
  {
   "cell_type": "code",
   "execution_count": 0,
   "metadata": {
    "application/vnd.databricks.v1+cell": {
     "cellMetadata": {
      "byteLimit": 2048000,
      "rowLimit": 10000
     },
     "inputWidgets": {},
     "nuid": "cc84ccac-c719-4795-8e2d-67584f8de74d",
     "showTitle": false,
     "tableResultSettingsMap": {},
     "title": ""
    }
   },
   "outputs": [],
   "source": [
    "profiles_with_state = profiles.withColumn(\n",
    "    \"state\",\n",
    "    f.split(f.col(\"city\"), \", \")[1]  # The second element is the state\n",
    ")"
   ]
  },
  {
   "cell_type": "code",
   "execution_count": 0,
   "metadata": {
    "application/vnd.databricks.v1+cell": {
     "cellMetadata": {
      "byteLimit": 2048000,
      "rowLimit": 10000
     },
     "inputWidgets": {},
     "nuid": "e8902eec-d1f3-4e16-9e1e-67131af031c7",
     "showTitle": false,
     "tableResultSettingsMap": {},
     "title": ""
    }
   },
   "outputs": [],
   "source": [
    "# Show the results\n",
    "states_df = profiles_with_state.select(\"state\").dropDuplicates().dropna()\n",
    "states_df.display()"
   ]
  },
  {
   "cell_type": "code",
   "execution_count": 0,
   "metadata": {
    "application/vnd.databricks.v1+cell": {
     "cellMetadata": {
      "byteLimit": 2048000,
      "rowLimit": 10000
     },
     "inputWidgets": {},
     "nuid": "68c42d6c-722d-43da-9787-ef4392331ec3",
     "showTitle": false,
     "tableResultSettingsMap": {},
     "title": ""
    }
   },
   "outputs": [],
   "source": [
    "profiles_with_state = profiles.withColumn('state', f.split(f.col('city'), ', ')[1])\n",
    "profiles_with_count = profiles_with_state"
   ]
  },
  {
   "cell_type": "code",
   "execution_count": 0,
   "metadata": {
    "application/vnd.databricks.v1+cell": {
     "cellMetadata": {
      "byteLimit": 2048000,
      "rowLimit": 10000
     },
     "inputWidgets": {},
     "nuid": "61bc37f1-39c1-4679-8281-d79a7e9ae55e",
     "showTitle": false,
     "tableResultSettingsMap": {},
     "title": ""
    }
   },
   "outputs": [],
   "source": [
    "result_df.write.mode(\"overwrite\").parquet(\"/Workspace/Users/lihi.kaspi@campus.technion.ac.il/classified_jobs.parquet\")"
   ]
  },
  {
   "cell_type": "markdown",
   "metadata": {
    "application/vnd.databricks.v1+cell": {
     "cellMetadata": {},
     "inputWidgets": {},
     "nuid": "618213d0-680f-4f69-8814-ab4faaaf8f6d",
     "showTitle": false,
     "tableResultSettingsMap": {},
     "title": ""
    }
   },
   "source": [
    "## companies"
   ]
  },
  {
   "cell_type": "code",
   "execution_count": 0,
   "metadata": {
    "application/vnd.databricks.v1+cell": {
     "cellMetadata": {
      "byteLimit": 2048000,
      "rowLimit": 10000
     },
     "collapsed": true,
     "inputWidgets": {},
     "nuid": "18b8d8f6-85e3-4b0c-8212-d406aa4bb357",
     "showTitle": false,
     "tableResultSettingsMap": {},
     "title": ""
    }
   },
   "outputs": [],
   "source": [
    "meta_industries_12 = {\n",
    "    'Furniture and Home Furnishings Manufacturing': 'Manufacturing',\n",
    "    'Investment Banking': 'Financial and Investment',\n",
    "    'Architecture and Planning': 'Services',\n",
    "    'Wholesale': 'Services',\n",
    "    'Travel Arrangements': 'Services',\n",
    "    'Ranching': 'Miscellaneous',\n",
    "    'Hospitals and Health Care': 'Healthcare and Medical',\n",
    "    'Book and Periodical Publishing': 'Services',\n",
    "    'Printing Services': 'Services',\n",
    "    'Professional Training and Coaching': 'Services',\n",
    "    'Computers and Electronics Manufacturing': 'Manufacturing',\n",
    "    'Shipbuilding': 'Manufacturing',\n",
    "    'Public Policy Offices': 'Government and Public Policy',\n",
    "    'Software Development': 'Technology',\n",
    "    'Outsourcing and Offshoring Consulting': 'Services',\n",
    "    'Retail Groceries': 'Retail and Consumer Goods',\n",
    "    'Education Administration Programs': 'Education and Training',\n",
    "    'Plastics Manufacturing': 'Manufacturing',\n",
    "    'Renewable Energy Semiconductor Manufacturing': 'Manufacturing',\n",
    "    'Computer Networking Products': 'Technology',\n",
    "    'Events Services': 'Services',\n",
    "    'Information Services': 'Services',\n",
    "    'Food and Beverage Services': 'Services',\n",
    "    'Semiconductor Manufacturing': 'Manufacturing',\n",
    "    'Business Consulting and Services': 'Services',\n",
    "    'Insurance': 'Services',\n",
    "    'Financial Services': 'Services',\n",
    "    'Wireless Services': 'Services',\n",
    "    'Computer Hardware Manufacturing': 'Technology',\n",
    "    'Public Safety': 'Services',\n",
    "    'Maritime Transportation': 'Transportation and Logistics',\n",
    "    'Tobacco Manufacturing': 'Manufacturing',\n",
    "    'Writing and Editing': 'Services',\n",
    "    'Veterinary Services': 'Services',\n",
    "    'Staffing and Recruiting': 'Services',\n",
    "    'Accounting': 'Services',\n",
    "    'International Affairs': 'Government and Public Policy',\n",
    "    'Spectator Sports': 'Miscellaneous',\n",
    "    'Glass, Ceramics and Concrete Manufacturing': 'Manufacturing',\n",
    "    'Chemical Manufacturing': 'Manufacturing',\n",
    "    'Mining': 'Miscellaneous',\n",
    "    'E-Learning Providers': 'Technology',\n",
    "    'Security and Investigations': 'Services',\n",
    "    'Translation and Localization': 'Services',\n",
    "    'Automation Machinery Manufacturing': 'Technology',\n",
    "    'Computer and Network Security': 'Technology',\n",
    "    'Political Organizations': 'Government and Public Policy',\n",
    "    'Environmental Services': 'Government and Public Policy',\n",
    "    'Oil and Gas': 'Miscellaneous',\n",
    "    'Real Estate': 'Real Estate and Construction',\n",
    "    'Think Tanks': 'Government and Public Policy',\n",
    "    'Executive Offices': 'Miscellaneous',\n",
    "    'Law Practice': 'Services',\n",
    "    'Nanotechnology Research': 'Miscellaneous',\n",
    "    'International Trade and Development': 'Government and Public Policy',\n",
    "    'Personal Care Product Manufacturing': 'Manufacturing',\n",
    "    'Philanthropic Fundraising Services': 'Services',\n",
    "    'Entertainment Providers': 'Media and Entertainment',\n",
    "    'Market Research': 'Media and Entertainment',\n",
    "    'Movies, Videos, and Sound': 'Media and Entertainment',\n",
    "    'Sporting Goods Manufacturing': 'Manufacturing',\n",
    "    'Graphic Design': 'Services',\n",
    "    'Technology, Information and Internet': 'Technology',\n",
    "    'IT Services and IT Consulting': 'Technology',\n",
    "    'Retail Office Equipment': 'Retail and Consumer Goods',\n",
    "    'Wholesale Import and Export': 'Services',\n",
    "    'Capital Markets': 'Financial and Investment',\n",
    "    'Law Enforcement': 'Services',\n",
    "    'Freight and Package Transportation': 'Transportation and Logistics',\n",
    "    'Industrial Machinery Manufacturing': 'Manufacturing',\n",
    "    'Non-profit Organizations': 'Miscellaneous',\n",
    "    'Retail Art Supplies': 'Retail and Consumer Goods',\n",
    "    'Animation and Post-production': 'Media and Entertainment',\n",
    "    'Transportation, Logistics, Supply Chain and Storage': 'Transportation and Logistics',\n",
    "    'Aviation and Aerospace Component Manufacturing': 'Transportation and Logistics',\n",
    "    'Fundraising': 'Financial and Investment',\n",
    "    'Railroad Equipment Manufacturing': 'Transportation and Logistics',\n",
    "    'Construction': 'Real Estate and Construction',\n",
    "    'Investment Management': 'Financial and Investment',\n",
    "    'Utilities': 'Miscellaneous',\n",
    "    'Retail Luxury Goods and Jewelry': 'Retail and Consumer Goods',\n",
    "    'Warehousing and Storage': 'Transportation and Logistics',\n",
    "    'Media Production': 'Media and Entertainment',\n",
    "    'Gambling Facilities and Casinos': 'Media and Entertainment',\n",
    "    'Defense and Space Manufacturing': 'Manufacturing',\n",
    "    'Facilities Services': 'Services',\n",
    "    'Government Relations Services': 'Government and Public Policy',\n",
    "    'Advertising Services': 'Media and Entertainment',\n",
    "    'Paper and Forest Product Manufacturing': 'Manufacturing',\n",
    "    'Packaging and Containers Manufacturing': 'Manufacturing',\n",
    "    'Telecommunications': 'Technology',\n",
    "    'Medical Equipment Manufacturing': 'Healthcare and Medical',\n",
    "    'Beverage Manufacturing': 'Manufacturing',\n",
    "    'Restaurants': 'Retail and Consumer Goods',\n",
    "    'Leasing Non-residential Real Estate': 'Real Estate and Construction',\n",
    "    'Newspaper Publishing': 'Media and Entertainment',\n",
    "    'Armed Forces': 'Miscellaneous',\n",
    "    'Appliances, Electrical, and Electronics Manufacturing': 'Manufacturing',\n",
    "    'Hospitality': 'Services',\n",
    "    'Pharmaceutical Manufacturing': 'Healthcare and Medical',\n",
    "    'Research Services': 'Services',\n",
    "    'Retail Apparel and Fashion': 'Retail and Consumer Goods',\n",
    "    'Photography': 'Media and Entertainment',\n",
    "    'Wellness and Fitness Services': 'Services',\n",
    "    'Truck Transportation': 'Transportation and Logistics',\n",
    "    'Consumer Services': 'Services',\n",
    "    'Wholesale Building Materials': 'Services',\n",
    "    'Human Resources Services': 'Services',\n",
    "    'Airlines and Aviation': 'Transportation and Logistics',\n",
    "    'Machinery Manufacturing': 'Manufacturing',\n",
    "    'Individual and Family Services': 'Services',\n",
    "    'Motor Vehicle Manufacturing': 'Manufacturing',\n",
    "    'Performing Arts': 'Media and Entertainment',\n",
    "    'Museums, Historical Sites, and Zoos': 'Media and Entertainment',\n",
    "    'Broadcast Media Production and Distribution': 'Media and Entertainment',\n",
    "    'Banking': 'Financial and Investment',\n",
    "    'Recreational Facilities': 'Miscellaneous',\n",
    "    'Government Administration': 'Government and Public Policy',\n",
    "    'Public Relations and Communications Services': 'Media and Entertainment',\n",
    "    'Fisheries': 'Miscellaneous',\n",
    "    'Medical Practices': 'Healthcare and Medical',\n",
    "    'Religious Institutions': 'Miscellaneous',\n",
    "    'Online Audio and Video Media': 'Media and Entertainment',\n",
    "    'Artists and Writers': 'Miscellaneous',\n",
    "    'Biotechnology Research': 'Healthcare and Medical',\n",
    "    'Legal Services': 'Services',\n",
    "    'Retail': 'Retail and Consumer Goods',\n",
    "    'Civil Engineering': 'Services',\n",
    "    'Libraries': 'Miscellaneous',\n",
    "    'Alternative Dispute Resolution': 'Miscellaneous',\n",
    "    'Manufacturing': 'Miscellaneous',\n",
    "    'Design Services': 'Services',\n",
    "    'Dairy Product Manufacturing': 'Manufacturing',\n",
    "    'Higher Education': 'Education and Training',\n",
    "    'Civic and Social Organizations': 'Miscellaneous',\n",
    "    'Textile Manufacturing': 'Manufacturing',\n",
    "    'Venture Capital and Private Equity Principals': 'Financial and Investment',\n",
    "    'Mental Health Care': 'Healthcare and Medical',\n",
    "    'Musicians': 'Media and Entertainment',\n",
    "    'Farming': 'Miscellaneous',\n",
    "    'Computer Games': 'Media and Entertainment',\n",
    "    'Strategic Management Services': 'Services',\n",
    "    'Food and Beverage Manufacturing': 'Manufacturing',\n",
    "    'Primary and Secondary Education': 'Education and Training',\n",
    "    'Alternative Medicine': 'Healthcare and Medical',\n",
    "    'Legislative Offices': 'Services',\n",
    "    'Administration of Justice': 'Services',\n",
    "    'Mobile Gaming Apps': 'Media and Entertainment'\n",
    "}"
   ]
  },
  {
   "cell_type": "code",
   "execution_count": 0,
   "metadata": {
    "application/vnd.databricks.v1+cell": {
     "cellMetadata": {
      "byteLimit": 2048000,
      "rowLimit": 10000
     },
     "inputWidgets": {},
     "nuid": "957c35e4-bdb5-4c31-831a-8311cf9f9170",
     "showTitle": false,
     "tableResultSettingsMap": {},
     "title": ""
    }
   },
   "outputs": [],
   "source": [
    "meta_industry = f.udf( lambda x: meta_industries_12[x] )\n",
    "companies = companies.filter(companies.industries.isNotNull())\n",
    "companies = companies.withColumn('meta_industry', meta_industry(f.col('industries')))"
   ]
  },
  {
   "cell_type": "code",
   "execution_count": 0,
   "metadata": {
    "application/vnd.databricks.v1+cell": {
     "cellMetadata": {
      "byteLimit": 2048000,
      "rowLimit": 10000
     },
     "inputWidgets": {},
     "nuid": "8f88282c-d3f7-429a-b569-556d9c2b953a",
     "showTitle": false,
     "tableResultSettingsMap": {},
     "title": ""
    }
   },
   "outputs": [],
   "source": [
    "print(companies.count())"
   ]
  },
  {
   "cell_type": "code",
   "execution_count": 0,
   "metadata": {
    "application/vnd.databricks.v1+cell": {
     "cellMetadata": {
      "byteLimit": 2048000,
      "rowLimit": 10000
     },
     "inputWidgets": {},
     "nuid": "deb46c2e-4711-4a9e-b494-6bcf3a315727",
     "showTitle": false,
     "tableResultSettingsMap": {},
     "title": ""
    }
   },
   "outputs": [],
   "source": [
    "companies.select(\"industries\", \"meta_industry\").display()"
   ]
  }
 ],
 "metadata": {
  "application/vnd.databricks.v1+notebook": {
   "computePreferences": null,
   "dashboards": [],
   "environmentMetadata": {
    "base_environment": "",
    "client": "1"
   },
   "language": "python",
   "notebookMetadata": {
    "pythonIndentUnit": 4
   },
   "notebookName": "Metajobs_Classfication",
   "widgets": {}
  },
  "language_info": {
   "name": "python"
  }
 },
 "nbformat": 4,
 "nbformat_minor": 0
}
