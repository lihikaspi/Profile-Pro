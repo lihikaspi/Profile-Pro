{
 "cells": [
  {
   "cell_type": "markdown",
   "metadata": {
    "application/vnd.databricks.v1+cell": {
     "cellMetadata": {
      "byteLimit": 2048000,
      "rowLimit": 10000
     },
     "inputWidgets": {},
     "nuid": "baec090f-e206-4f95-a5a5-f5ba2bc7250d",
     "showTitle": false,
     "tableResultSettingsMap": {},
     "title": ""
    }
   },
   "source": [
    "## Profile Score Calculation"
   ]
  },
  {
   "cell_type": "code",
   "execution_count": 0,
   "metadata": {
    "application/vnd.databricks.v1+cell": {
     "cellMetadata": {
      "byteLimit": 2048000,
      "rowLimit": 10000
     },
     "inputWidgets": {},
     "nuid": "a366105b-000b-4762-8b33-43b87426c86d",
     "showTitle": false,
     "tableResultSettingsMap": {},
     "title": ""
    }
   },
   "outputs": [],
   "source": [
    "from pyspark.sql.types import *\n",
    "import pyspark\n",
    "from pyspark.sql import SparkSession\n",
    "from pyspark.sql import functions as f\n",
    "import pandas as pd\n",
    "import numpy as np\n",
    "from pyspark.sql.window import Window\n",
    "from datetime import datetime\n",
    "import re\n",
    "\n",
    "spark = SparkSession.builder.getOrCreate()"
   ]
  },
  {
   "cell_type": "code",
   "execution_count": 0,
   "metadata": {
    "application/vnd.databricks.v1+cell": {
     "cellMetadata": {
      "byteLimit": 2048000,
      "rowLimit": 10000
     },
     "inputWidgets": {},
     "nuid": "f183d738-f240-40b3-89a0-81e15277c738",
     "showTitle": false,
     "tableResultSettingsMap": {},
     "title": ""
    }
   },
   "outputs": [],
   "source": [
    "profiles = spark.read.parquet('/dbfs/linkedin_people_train_data')\n",
    "classified_jobs = spark.read.parquet(\"/Workspace/Users/lihi.kaspi@campus.technion.ac.il/classified_jobs.parquet\")\n",
    "metajob_counts = spark.read.csv(\"dbfs:/FileStore/tables/lihi_kaspi/counts.csv\", header=True)"
   ]
  },
  {
   "cell_type": "code",
   "execution_count": 0,
   "metadata": {
    "application/vnd.databricks.v1+cell": {
     "cellMetadata": {
      "byteLimit": 2048000,
      "rowLimit": 10000
     },
     "inputWidgets": {},
     "nuid": "19871c38-6c06-4684-8f06-3973364d21fc",
     "showTitle": false,
     "tableResultSettingsMap": {},
     "title": ""
    }
   },
   "outputs": [],
   "source": [
    "metajob_counts = metajob_counts.withColumn('Count', f.regexp_replace('Count', ',', '')) \\\n",
    "    .withColumn('Count', f.col('Count').cast('int')) \\\n",
    "    .withColumnRenamed('Job', 'metajob')"
   ]
  },
  {
   "cell_type": "markdown",
   "metadata": {
    "application/vnd.databricks.v1+cell": {
     "cellMetadata": {
      "byteLimit": 2048000,
      "rowLimit": 10000
     },
     "inputWidgets": {},
     "nuid": "d4b73f9b-72aa-478b-b257-36b54e7a85bd",
     "showTitle": false,
     "tableResultSettingsMap": {},
     "title": ""
    }
   },
   "source": [
    "### Find Metajob and Popularity"
   ]
  },
  {
   "cell_type": "code",
   "execution_count": 0,
   "metadata": {
    "application/vnd.databricks.v1+cell": {
     "cellMetadata": {
      "byteLimit": 2048000,
      "rowLimit": 10000
     },
     "inputWidgets": {},
     "nuid": "8f563b0f-c34c-4b09-9d51-b3da7982bb0a",
     "showTitle": false,
     "tableResultSettingsMap": {},
     "title": ""
    }
   },
   "outputs": [],
   "source": [
    "jobs = profiles.select('id', f.col('experience')[0].getField('title').alias('job_title'), 'position')\n",
    "\n",
    "# prepare the column\n",
    "jobs = jobs.withColumn(\n",
    "    'processed_title',\n",
    "    f.when(f.col('job_title').isNotNull(), f.lower(f.col('job_title')))\n",
    "    .otherwise(f.lower(f.col('position')))\n",
    ")\n",
    "\n",
    "jobs = jobs.join(classified_jobs, jobs.processed_title == classified_jobs.job_title, how='left') \\\n",
    "            .select('id', f.col('closest_centroid').alias('metajob'))\n",
    "\n",
    "jobs = jobs.withColumn('metajob', f.when(f.col('metajob').isNull(), 'Miscellaneous').otherwise(f.col('metajob')))"
   ]
  },
  {
   "cell_type": "code",
   "execution_count": 0,
   "metadata": {
    "application/vnd.databricks.v1+cell": {
     "cellMetadata": {
      "byteLimit": 2048000,
      "rowLimit": 10000
     },
     "inputWidgets": {},
     "nuid": "e26d6d2a-478d-47cf-b384-add3ddd36098",
     "showTitle": false,
     "tableResultSettingsMap": {},
     "title": ""
    }
   },
   "outputs": [],
   "source": [
    "profiles_df = profiles.join(jobs, on='id', how='left')\n",
    "profiles_df = profiles_df.withColumn('State', f.split(f.col('city'), ', ')[1])\n",
    "\n",
    "profiles_df = profiles_df.join(metajob_counts, on=['State', 'metajob'], how='left')\n",
    "profiles_df = profiles_df.withColumn('Count', f.when(f.col('Count').isNull(), 1).otherwise(f.col('Count') + 1))\n",
    "\n",
    "profiles_df = profiles_df.withColumn('log_count_jobs', f.log2(f.col('Count')) + 1)"
   ]
  },
  {
   "cell_type": "code",
   "execution_count": 0,
   "metadata": {
    "application/vnd.databricks.v1+cell": {
     "cellMetadata": {
      "byteLimit": 2048000,
      "rowLimit": 10000
     },
     "inputWidgets": {},
     "nuid": "81ccebfe-68f8-4e00-a535-2995b41ef635",
     "showTitle": false,
     "tableResultSettingsMap": {},
     "title": ""
    }
   },
   "outputs": [],
   "source": [
    "avg_job_count = profiles_df.select('State', 'metajob', 'log_count_jobs').groupBy('State', 'metajob').avg() \\\n",
    "    .withColumnRenamed('avg(log_count_jobs)', 'avg_log_count_jobs')\n",
    "profiles_df = profiles_df.join(avg_job_count, on=['State', 'metajob'], how='left').dropna(subset=['avg_log_count_jobs'])"
   ]
  },
  {
   "cell_type": "markdown",
   "metadata": {
    "application/vnd.databricks.v1+cell": {
     "cellMetadata": {
      "byteLimit": 2048000,
      "rowLimit": 10000
     },
     "inputWidgets": {},
     "nuid": "a3cf401d-409a-4108-bcfc-2be3a5a3ca6e",
     "showTitle": false,
     "tableResultSettingsMap": {},
     "title": ""
    }
   },
   "source": [
    "### User Profile Score"
   ]
  },
  {
   "cell_type": "code",
   "execution_count": 0,
   "metadata": {
    "application/vnd.databricks.v1+cell": {
     "cellMetadata": {
      "byteLimit": 2048000,
      "rowLimit": 10000
     },
     "inputWidgets": {},
     "nuid": "717eda18-8cdc-4996-b4d2-f3083f07ebdf",
     "showTitle": false,
     "tableResultSettingsMap": {},
     "title": ""
    }
   },
   "outputs": [],
   "source": [
    "# columns that should be filled for better understaning the user\n",
    "important_cols = ['about', 'city', 'country_code', 'current_company', 'education', 'experience', 'followers', 'id', 'languages', 'name', 'position', 'posts', 'recommendations_count']"
   ]
  },
  {
   "cell_type": "code",
   "execution_count": 0,
   "metadata": {
    "application/vnd.databricks.v1+cell": {
     "cellMetadata": {
      "byteLimit": 2048000,
      "rowLimit": 10000
     },
     "inputWidgets": {},
     "nuid": "67ea8b6a-b880-4d2a-9cd1-7430c64005bd",
     "showTitle": false,
     "tableResultSettingsMap": {},
     "title": ""
    }
   },
   "outputs": [],
   "source": [
    "# find the percent of filled column out of the important ones\n",
    "profiles_df = profiles_df.withColumn(\n",
    "    \"filled_percent\",\n",
    "    f.round(\n",
    "        (sum(\n",
    "            f.when(\n",
    "                f.col(col).isNotNull() & (~f.col(col).cast(\"string\").rlike(\"^\\\\[\\\\]$\")), 1\n",
    "            ).otherwise(0)\n",
    "            for col in important_cols\n",
    "        )\n",
    "    ) / len(important_cols) * 100, 2))"
   ]
  },
  {
   "cell_type": "code",
   "execution_count": 0,
   "metadata": {
    "application/vnd.databricks.v1+cell": {
     "cellMetadata": {
      "byteLimit": 2048000,
      "rowLimit": 10000
     },
     "inputWidgets": {},
     "nuid": "1892ebac-449e-477d-99c1-a5b3ecff9e29",
     "showTitle": false,
     "tableResultSettingsMap": {},
     "title": ""
    }
   },
   "outputs": [],
   "source": [
    "# words that indicate managment/board positions\n",
    "important_titles = ['president', 'ceo', 'coo', 'cfo', 'cto', 'cmo', 'cdo', 'cso','cio', 'cpo', 'cro', 'vp', 'svp', 'rvp', 'evp', 'avp', 'chief', 'executive', 'exec' 'vice president', 'director', 'partner', 'dean', 'senior', 'head', 'principal', 'provost', 'treasurer', 'chair', 'chairman', 'chairwoman', 'chancellor', 'board']"
   ]
  },
  {
   "cell_type": "code",
   "execution_count": 0,
   "metadata": {
    "application/vnd.databricks.v1+cell": {
     "cellMetadata": {
      "byteLimit": 2048000,
      "rowLimit": 10000
     },
     "inputWidgets": {},
     "nuid": "1f8e67cd-d59c-4f64-bc5f-0f4f4c920312",
     "showTitle": false,
     "tableResultSettingsMap": {},
     "title": ""
    }
   },
   "outputs": [],
   "source": [
    "# count how many indicative words each user has\n",
    "regex_pattern = f\"({'|'.join(map(re.escape, important_titles))})\"\n",
    "\n",
    "# count word in 'positon' field\n",
    "profiles_df = profiles_df.withColumn(\n",
    "  'position_count', \n",
    "      f.size(\n",
    "        f.expr(\n",
    "          f\"filter(transform(split(lower(position), ' '), word -> word RLIKE '{regex_pattern}'), x -> x)\")))\n",
    "\n",
    "# count words in 'job title' field\n",
    "profiles_df = profiles_df.withColumn(\n",
    "  'title_count', \n",
    "      f.size(\n",
    "        f.expr(\n",
    "          f\"filter(transform(split(lower(experience[0].title), ' '), word -> word RLIKE '{regex_pattern}'), x -> x)\")))"
   ]
  },
  {
   "cell_type": "code",
   "execution_count": 0,
   "metadata": {
    "application/vnd.databricks.v1+cell": {
     "cellMetadata": {
      "byteLimit": 2048000,
      "rowLimit": 10000
     },
     "inputWidgets": {},
     "nuid": "d0ef0e7f-1ea8-43c2-a27c-c43037f1773a",
     "showTitle": false,
     "tableResultSettingsMap": {},
     "title": ""
    }
   },
   "outputs": [],
   "source": [
    "# change the range of the count to be from 1 for the log function\n",
    "profiles_df = profiles_df.withColumn(\n",
    "  'position_count', \n",
    "    f.when(\n",
    "      f.col('position_count') < 1, 1\n",
    "    ).otherwise(f.col('position_count') + 1))\n",
    "\n",
    "profiles_df = profiles_df.withColumn(\n",
    "  'title_count', \n",
    "    f.when(\n",
    "      f.col('title_count') < 1, 1\n",
    "    ).otherwise(f.col('title_count') + 1))\n",
    "\n",
    "# find the avg count of the indicative words\n",
    "profiles_df = profiles_df.withColumn('avg_important_count', (f.col('position_count') + f.col('title_count') + 2) / 2)"
   ]
  },
  {
   "cell_type": "code",
   "execution_count": 0,
   "metadata": {
    "application/vnd.databricks.v1+cell": {
     "cellMetadata": {
      "byteLimit": 2048000,
      "rowLimit": 10000
     },
     "inputWidgets": {},
     "nuid": "210c2ca1-4522-46bb-9bd7-4bee14fe4f0d",
     "showTitle": false,
     "tableResultSettingsMap": {},
     "title": ""
    }
   },
   "outputs": [],
   "source": [
    "profiles_df = profiles_df.withColumn('avg_count', (f.col('avg_important_count') + f.col('avg_log_count_jobs')) / 2)"
   ]
  },
  {
   "cell_type": "code",
   "execution_count": 0,
   "metadata": {
    "application/vnd.databricks.v1+cell": {
     "cellMetadata": {
      "byteLimit": 2048000,
      "rowLimit": 10000
     },
     "inputWidgets": {},
     "nuid": "92829343-9102-434c-a944-7e37718d3029",
     "showTitle": false,
     "tableResultSettingsMap": {},
     "title": ""
    }
   },
   "outputs": [],
   "source": [
    "# calculate the followers score and log followers score\n",
    "profiles_df = profiles_df.withColumn('followers_score', (f.col('followers') / f.col('avg_count')) + 1)\n",
    "profiles_df = profiles_df.withColumn('log_followers_score', f.log(f.col('followers_score')))\n",
    "\n",
    "# calculate the profile score\n",
    "profiles_df = profiles_df.withColumn('profile_score', f.col('log_followers_score') * f.col('filled_percent') / 20)"
   ]
  },
  {
   "cell_type": "code",
   "execution_count": 0,
   "metadata": {
    "application/vnd.databricks.v1+cell": {
     "cellMetadata": {
      "byteLimit": 2048000,
      "rowLimit": 10000
     },
     "inputWidgets": {},
     "nuid": "efb35e0b-1926-4613-87b2-6583344da184",
     "showTitle": false,
     "tableResultSettingsMap": {},
     "title": ""
    }
   },
   "outputs": [],
   "source": [
    "final_profiles_df = profiles_df.select([col for col in profiles.columns] + ['profile_score'])"
   ]
  },
  {
   "cell_type": "code",
   "execution_count": 0,
   "metadata": {
    "application/vnd.databricks.v1+cell": {
     "cellMetadata": {
      "byteLimit": 2048000,
      "rowLimit": 10000
     },
     "inputWidgets": {},
     "nuid": "4c7ac741-27db-48c3-b828-e47e4e97edda",
     "showTitle": false,
     "tableResultSettingsMap": {},
     "title": ""
    }
   },
   "outputs": [],
   "source": [
    "final_profiles_df.write.mode(\"overwrite\").parquet(\"/Workspace/Users/lihi.kaspi@campus.technion.ac.il/user_profiles_with_scores.parquet\")"
   ]
  },
  {
   "cell_type": "code",
   "execution_count": 0,
   "metadata": {
    "application/vnd.databricks.v1+cell": {
     "cellMetadata": {
      "byteLimit": 2048000,
      "rowLimit": 10000
     },
     "inputWidgets": {},
     "nuid": "4a7968a7-eb72-4d15-9cb9-6f2dda298828",
     "showTitle": false,
     "tableResultSettingsMap": {},
     "title": ""
    }
   },
   "outputs": [],
   "source": [
    "display(profiles_df.select('name', 'State', 'metajob', 'log_followers_score', 'avg_log_count_jobs', 'filled_percent', 'profile_score').orderBy('profile_score', ascending=False))"
   ]
  }
 ],
 "metadata": {
  "application/vnd.databricks.v1+notebook": {
   "computePreferences": null,
   "dashboards": [],
   "environmentMetadata": {
    "base_environment": "",
    "environment_version": "1"
   },
   "language": "python",
   "notebookMetadata": {
    "pythonIndentUnit": 4
   },
   "notebookName": "Profile_Score_Calculation",
   "widgets": {}
  },
  "language_info": {
   "name": "python"
  }
 },
 "nbformat": 4,
 "nbformat_minor": 0
}
