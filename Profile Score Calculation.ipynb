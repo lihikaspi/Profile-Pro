{
 "cells": [
  {
   "cell_type": "markdown",
   "metadata": {
    "application/vnd.databricks.v1+cell": {
     "cellMetadata": {},
     "inputWidgets": {},
     "nuid": "baec090f-e206-4f95-a5a5-f5ba2bc7250d",
     "showTitle": false,
     "tableResultSettingsMap": {},
     "title": ""
    }
   },
   "source": [
    "## Profiel Score Calculation"
   ]
  },
  {
   "cell_type": "code",
   "execution_count": 0,
   "metadata": {
    "application/vnd.databricks.v1+cell": {
     "cellMetadata": {},
     "inputWidgets": {},
     "nuid": "a366105b-000b-4762-8b33-43b87426c86d",
     "showTitle": false,
     "tableResultSettingsMap": {},
     "title": ""
    }
   },
   "outputs": [],
   "source": [
    "from pyspark.sql.types import *\n",
    "import pyspark\n",
    "from pyspark.sql import SparkSession\n",
    "from pyspark.sql import functions as f\n",
    "import pandas as pd\n",
    "import numpy as np\n",
    "from pyspark.sql.window import Window\n",
    "from datetime import datetime\n",
    "import re\n",
    "\n",
    "spark = SparkSession.builder.getOrCreate()"
   ]
  },
  {
   "cell_type": "code",
   "execution_count": 0,
   "metadata": {
    "application/vnd.databricks.v1+cell": {
     "cellMetadata": {},
     "inputWidgets": {},
     "nuid": "f183d738-f240-40b3-89a0-81e15277c738",
     "showTitle": false,
     "tableResultSettingsMap": {},
     "title": ""
    }
   },
   "outputs": [],
   "source": [
    "companies = spark.read.parquet('/dbfs/linkedin_train_data')\n",
    "profiles = spark.read.parquet('/dbfs/linkedin_people_train_data')"
   ]
  },
  {
   "cell_type": "code",
   "execution_count": 0,
   "metadata": {
    "application/vnd.databricks.v1+cell": {
     "cellMetadata": {},
     "inputWidgets": {},
     "nuid": "717eda18-8cdc-4996-b4d2-f3083f07ebdf",
     "showTitle": false,
     "tableResultSettingsMap": {},
     "title": ""
    }
   },
   "outputs": [],
   "source": [
    "# columns that should be filled for better understaning the user\n",
    "important_cols = ['about', 'city', 'country_code', 'current_company', 'education', 'experience', 'followers', 'id', 'languages', 'name', 'position', 'posts', 'recommendations_count']"
   ]
  },
  {
   "cell_type": "code",
   "execution_count": 0,
   "metadata": {
    "application/vnd.databricks.v1+cell": {
     "cellMetadata": {},
     "inputWidgets": {},
     "nuid": "67ea8b6a-b880-4d2a-9cd1-7430c64005bd",
     "showTitle": false,
     "tableResultSettingsMap": {},
     "title": ""
    }
   },
   "outputs": [],
   "source": [
    "# find the percent of filled column out of the important ones\n",
    "profiles_df = profiles.withColumn(\n",
    "    \"filled_precent\",\n",
    "    f.round(\n",
    "        (sum(\n",
    "            f.when(\n",
    "                f.col(col).isNotNull() & (~f.col(col).cast(\"string\").rlike(\"^\\\\[\\\\]$\")), 1\n",
    "            ).otherwise(0)\n",
    "            for col in important_cols\n",
    "        )\n",
    "    ) / len(important_cols) * 100, 2))"
   ]
  },
  {
   "cell_type": "code",
   "execution_count": 0,
   "metadata": {
    "application/vnd.databricks.v1+cell": {
     "cellMetadata": {},
     "inputWidgets": {},
     "nuid": "1892ebac-449e-477d-99c1-a5b3ecff9e29",
     "showTitle": false,
     "tableResultSettingsMap": {},
     "title": ""
    }
   },
   "outputs": [],
   "source": [
    "# words that indicate managment/board positions\n",
    "important_titles = ['president', 'ceo', 'coo', 'cfo', 'cto', 'cmo', 'cdo', 'cso','cio', 'cpo', 'cro', 'vp', 'svp', 'rvp', 'evp', 'avp', 'chief', 'executive', 'exec' 'vice president', 'director', 'partner', 'dean', 'senior', 'head', 'principal', 'provost', 'treasurer', 'chair', 'chairman', 'chairwoman', 'chancellor', 'board']"
   ]
  },
  {
   "cell_type": "code",
   "execution_count": 0,
   "metadata": {
    "application/vnd.databricks.v1+cell": {
     "cellMetadata": {},
     "inputWidgets": {},
     "nuid": "1f8e67cd-d59c-4f64-bc5f-0f4f4c920312",
     "showTitle": false,
     "tableResultSettingsMap": {},
     "title": ""
    }
   },
   "outputs": [],
   "source": [
    "# count how many indicative words each user has\n",
    "regex_pattern = f\"({'|'.join(map(re.escape, important_titles))})\"\n",
    "\n",
    "# count word in 'positon' field\n",
    "profiles_df = profiles_df.withColumn(\n",
    "  'position_count', \n",
    "      f.size(\n",
    "        f.expr(\n",
    "          f\"filter(transform(split(lower(position), ' '), word -> word RLIKE '{regex_pattern}'), x -> x)\")))\n",
    "\n",
    "# count words in 'job title' field\n",
    "profiles_df = profiles_df.withColumn(\n",
    "  'title_count', \n",
    "      f.size(\n",
    "        f.expr(\n",
    "          f\"filter(transform(split(lower(experience[0].title), ' '), word -> word RLIKE '{regex_pattern}'), x -> x)\")))"
   ]
  },
  {
   "cell_type": "code",
   "execution_count": 0,
   "metadata": {
    "application/vnd.databricks.v1+cell": {
     "cellMetadata": {},
     "inputWidgets": {},
     "nuid": "d0ef0e7f-1ea8-43c2-a27c-c43037f1773a",
     "showTitle": false,
     "tableResultSettingsMap": {},
     "title": ""
    }
   },
   "outputs": [],
   "source": [
    "# change the range of the count to be from 1 for the log function\n",
    "profiles_df = profiles_df.withColumn(\n",
    "  'position_count', \n",
    "    f.when(\n",
    "      f.col('position_count') < 1, 1\n",
    "    ).otherwise(f.col('position_count') + 1))\n",
    "profiles_df = profiles_df.withColumn(\n",
    "  'title_count', \n",
    "    f.when(\n",
    "      f.col('title_count') < 1, 1\n",
    "    ).otherwise(f.col('title_count') + 1))\n",
    "\n",
    "# find the avg count of the indicative words\n",
    "profiles_df = profiles_df.withColumn('avg_important_count', (f.col('position_count') + f.col('title_count')) / 2)"
   ]
  },
  {
   "cell_type": "code",
   "execution_count": 0,
   "metadata": {
    "application/vnd.databricks.v1+cell": {
     "cellMetadata": {},
     "inputWidgets": {},
     "nuid": "92829343-9102-434c-a944-7e37718d3029",
     "showTitle": false,
     "tableResultSettingsMap": {},
     "title": ""
    }
   },
   "outputs": [],
   "source": [
    "# calculate the followers score and log followers score\n",
    "profiles_df = profiles_df.withColumn('followers_score', (f.col('followers') / f.col('avg_important_count')) + 1)\n",
    "profiles_df = profiles_df.withColumn('log_followers_score', f.log(f.col('followers_score')))\n",
    "\n",
    "# calculate the profile score\n",
    "profiles_df = profiles_df.withColumn('profile_score', f.col('log_followers_score') * f.col('filled_precent') / 10)"
   ]
  },
  {
   "cell_type": "code",
   "execution_count": 0,
   "metadata": {
    "application/vnd.databricks.v1+cell": {
     "cellMetadata": {},
     "inputWidgets": {},
     "nuid": "4c7ac741-27db-48c3-b828-e47e4e97edda",
     "showTitle": false,
     "tableResultSettingsMap": {},
     "title": ""
    }
   },
   "outputs": [],
   "source": [
    "profiles_df.write.parquet(\"profiles_with_scores.parquet\")"
   ]
  }
 ],
 "metadata": {
  "application/vnd.databricks.v1+notebook": {
   "computePreferences": null,
   "dashboards": [],
   "environmentMetadata": {
    "base_environment": "",
    "client": "1"
   },
   "language": "python",
   "notebookMetadata": {
    "pythonIndentUnit": 4
   },
   "notebookName": "Profile Score Calculation",
   "widgets": {}
  },
  "language_info": {
   "name": "python"
  }
 },
 "nbformat": 4,
 "nbformat_minor": 0
}
